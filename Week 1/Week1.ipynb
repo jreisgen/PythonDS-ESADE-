{
 "cells": [
  {
   "cell_type": "code",
   "execution_count": 53,
   "metadata": {},
   "outputs": [
    {
     "name": "stdout",
     "output_type": "stream",
     "text": [
      "Hello, Python!\n"
     ]
    }
   ],
   "source": [
    "#Exercise 1: Print a Greeting\n",
    "print(\"Hello, Python!\")"
   ]
  },
  {
   "cell_type": "code",
   "execution_count": 54,
   "metadata": {},
   "outputs": [
    {
     "name": "stdout",
     "output_type": "stream",
     "text": [
      "16\n",
      "8\n",
      "48\n",
      "3.0\n"
     ]
    }
   ],
   "source": [
    "#Exercise 2: Basic Arithmetic\n",
    "a = 12\n",
    "b = 4\n",
    "\n",
    "print(a+b)\n",
    "print(a-b)\n",
    "print(a*b)\n",
    "print(a/b)"
   ]
  },
  {
   "cell_type": "code",
   "execution_count": 55,
   "metadata": {},
   "outputs": [
    {
     "name": "stdout",
     "output_type": "stream",
     "text": [
      "Hello, Jonathan!\n"
     ]
    }
   ],
   "source": [
    "#Exercise 3: String Manipulation\n",
    "name = \"Jonathan\"\n",
    "print(f\"Hello, {name}!\")"
   ]
  },
  {
   "cell_type": "code",
   "execution_count": 56,
   "metadata": {},
   "outputs": [
    {
     "name": "stdout",
     "output_type": "stream",
     "text": [
      "['ESADE', 'TUM', 'MIT', 'UCLA', 'RWTH']\n",
      "First: ESADE, Last: RWTH\n"
     ]
    }
   ],
   "source": [
    "#Exercise 4: Lists\n",
    "universities = [\"ESADE\", \"TUM\", \"MIT\", \"UCLA\", \"RWTH\"]\n",
    "print(universities)\n",
    "print(f\"First: {universities[0]}, Last: {universities[-1]}\")"
   ]
  },
  {
   "cell_type": "code",
   "execution_count": 57,
   "metadata": {},
   "outputs": [
    {
     "name": "stdout",
     "output_type": "stream",
     "text": [
      "[('name', 'Jonathan'), ('age', 22), ('grade', 10)]\n"
     ]
    }
   ],
   "source": [
    "#Exercise 5: Dictionaries\n",
    "student = {\"name\": \"Jonathan\", \"age\": 22, \"grade\": 10}\n",
    "print([(key, value) for key,value in student.items()])"
   ]
  },
  {
   "cell_type": "code",
   "execution_count": 58,
   "metadata": {},
   "outputs": [
    {
     "name": "stdout",
     "output_type": "stream",
     "text": [
      "(12, 2)\n",
      "12 2\n"
     ]
    }
   ],
   "source": [
    "#Exercise 6: Tuples\n",
    "coordinates = (12,2)\n",
    "print(coordinates)\n",
    "print(coordinates[0], coordinates[1])"
   ]
  },
  {
   "cell_type": "code",
   "execution_count": 59,
   "metadata": {},
   "outputs": [
    {
     "name": "stdout",
     "output_type": "stream",
     "text": [
      "{'yellow', 'blue', 'red', 'green'}\n",
      "{'yellow', 'blue', 'green'}\n",
      "{'light_green', 'blue', 'light_red', 'green', 'light_blue', 'yellow'}\n"
     ]
    }
   ],
   "source": [
    "colors = {\"red\", \"green\", \"blue\"}\n",
    "colors.add(\"yellow\")\n",
    "colors.add(\"red\")\n",
    "print(colors)\n",
    "colors.discard(\"red\")\n",
    "print(colors)\n",
    "light_colors = {\"light_red\", \"light_blue\", \"light_green\"}\n",
    "all_colors = colors.union(light_colors)\n",
    "print(all_colors)\n"
   ]
  },
  {
   "cell_type": "code",
   "execution_count": 60,
   "metadata": {},
   "outputs": [
    {
     "name": "stdout",
     "output_type": "stream",
     "text": [
      "Positive\n"
     ]
    }
   ],
   "source": [
    "#Exercise 8: Conditional Statements\n",
    "number = int(input(\"Enter number: \"))\n",
    "if number < 0:\n",
    "    print(\"Negative\")\n",
    "elif number == 0:\n",
    "    print(\"Zero\")\n",
    "else:\n",
    "    print(\"Positive\")\n",
    "##3 entered"
   ]
  },
  {
   "cell_type": "code",
   "execution_count": 61,
   "metadata": {},
   "outputs": [
    {
     "name": "stdout",
     "output_type": "stream",
     "text": [
      "1\n",
      "2\n",
      "3\n",
      "4\n",
      "5\n"
     ]
    }
   ],
   "source": [
    "#Exercise 9: For Loop\n",
    "numList = [1,2,3,4,5]\n",
    "for i in numList:\n",
    "    print(i)"
   ]
  },
  {
   "cell_type": "code",
   "execution_count": 62,
   "metadata": {},
   "outputs": [
    {
     "name": "stdout",
     "output_type": "stream",
     "text": [
      "1\n",
      "2\n",
      "3\n",
      "4\n",
      "5\n"
     ]
    }
   ],
   "source": [
    "#Exercise 10: While Loop\n",
    "i = 1\n",
    "while i < 6:\n",
    "    print(i)\n",
    "    i +=1"
   ]
  },
  {
   "cell_type": "code",
   "execution_count": 63,
   "metadata": {},
   "outputs": [
    {
     "name": "stdout",
     "output_type": "stream",
     "text": [
      "Invalid Input\n"
     ]
    }
   ],
   "source": [
    "#Exercise 11: Match Statement (Python 3.10+)\n",
    "grade = input(\"Enter grade: \")\n",
    "match grade:\n",
    "    case \"A\":\n",
    "        print(\"Excellent!\")\n",
    "    case \"B\":\n",
    "        print(\"Good job!\")\n",
    "    case \"C\":\n",
    "        print(\"Fair.\")\n",
    "    case \"D\":\n",
    "        print(\"Needs improvement\")\n",
    "    case \"F\":\n",
    "        print(\"Failing.\")\n",
    "    case _:\n",
    "        print(\"Invalid Input\")\n",
    "#Input x"
   ]
  },
  {
   "cell_type": "code",
   "execution_count": 64,
   "metadata": {},
   "outputs": [
    {
     "name": "stdout",
     "output_type": "stream",
     "text": [
      "Hello, Jonathan!\n"
     ]
    }
   ],
   "source": [
    "#Exercise 12: Define a Function\n",
    "def greet(name):\n",
    "    return (f\"Hello, {name}!\")\n",
    "\n",
    "print(greet(\"Jonathan\"))"
   ]
  },
  {
   "cell_type": "code",
   "execution_count": 65,
   "metadata": {},
   "outputs": [
    {
     "name": "stdout",
     "output_type": "stream",
     "text": [
      "9 16 25\n"
     ]
    }
   ],
   "source": [
    "#Exercise 13: Function with Return Value\n",
    "def square(number):\n",
    "    return number **2\n",
    "\n",
    "print(square(3), square(4), square(5))"
   ]
  },
  {
   "cell_type": "code",
   "execution_count": 66,
   "metadata": {},
   "outputs": [
    {
     "name": "stdout",
     "output_type": "stream",
     "text": [
      "3\n",
      "27\n"
     ]
    }
   ],
   "source": [
    "#Exercise 14: Function with Default Parameters\n",
    "def multiply(a,b=1):\n",
    "    return a*b\n",
    "\n",
    "print(multiply(3))\n",
    "print(multiply(3, 9))"
   ]
  },
  {
   "cell_type": "code",
   "execution_count": 67,
   "metadata": {},
   "outputs": [
    {
     "name": "stdout",
     "output_type": "stream",
     "text": [
      "[1, 4, 9, 16, 25, 36, 49, 64, 81, 100]\n"
     ]
    }
   ],
   "source": [
    "#Exercise 15: List Comprehension\n",
    "numbers = range(1,11)\n",
    "squares = [i**2 for i in numbers]\n",
    "print(squares)"
   ]
  },
  {
   "cell_type": "code",
   "execution_count": 68,
   "metadata": {},
   "outputs": [
    {
     "name": "stdout",
     "output_type": "stream",
     "text": [
      "John, 81.0\n",
      "Tim, 79.5\n",
      "James, 91.0\n"
     ]
    }
   ],
   "source": [
    "#Exercise 16: Nested Data Structures\n",
    "students = {\"John\": [90,71,81,82],\"Tim\": [79,86,73,80],\"James\": [92,95,88,89]}\n",
    "for student in students:\n",
    "    average = sum(students[student]) / len(students[student])\n",
    "    print(f\"{student}, {average}\")"
   ]
  },
  {
   "cell_type": "code",
   "execution_count": 70,
   "metadata": {},
   "outputs": [
    {
     "name": "stdout",
     "output_type": "stream",
     "text": [
      "3\n"
     ]
    }
   ],
   "source": [
    "#Exercise 17: Simple Calculator\n",
    "def calculator(n1, n2, operator):\n",
    "    try:\n",
    "        return eval(f\"{n1}{operator}{n2}\")\n",
    "    except:\n",
    "        print(\"Invalid Entry\")\n",
    "\n",
    "n1 = input(\"Enter the first number\")\n",
    "n2 = input(\"Enter the second number\")\n",
    "op = input(\"Enter the operator (+, -, *, /)\")\n",
    "print(calculator(n1,n2,op))"
   ]
  }
 ],
 "metadata": {
  "kernelspec": {
   "display_name": "Python 3",
   "language": "python",
   "name": "python3"
  },
  "language_info": {
   "codemirror_mode": {
    "name": "ipython",
    "version": 3
   },
   "file_extension": ".py",
   "mimetype": "text/x-python",
   "name": "python",
   "nbconvert_exporter": "python",
   "pygments_lexer": "ipython3",
   "version": "3.12.0"
  }
 },
 "nbformat": 4,
 "nbformat_minor": 2
}
