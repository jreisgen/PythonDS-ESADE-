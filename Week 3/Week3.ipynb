{
  "cells": [
    {
      "cell_type": "markdown",
      "id": "24b98369-c7ba-450b-a8b5-e34319000695",
      "metadata": {
        "editable": true,
        "id": "24b98369-c7ba-450b-a8b5-e34319000695",
        "tags": []
      },
      "source": [
        "# Python for Data Science\n",
        "## Session 3\n",
        "### Object Oriented Programming"
      ]
    },
    {
      "cell_type": "markdown",
      "id": "3ace1343-d73d-466d-aa07-56febbb7cbf1",
      "metadata": {
        "editable": true,
        "id": "3ace1343-d73d-466d-aa07-56febbb7cbf1",
        "tags": []
      },
      "source": [
        "---"
      ]
    },
    {
      "cell_type": "markdown",
      "id": "c5ffee69-5d4d-4f1c-9ed7-083afbc931ec",
      "metadata": {
        "editable": true,
        "id": "c5ffee69-5d4d-4f1c-9ed7-083afbc931ec",
        "tags": []
      },
      "source": [
        "## Outline\n",
        "1. Classes and objects\n",
        "2. Abstraction and Inheritance\n",
        "3. Polymorphism and Encapsulation"
      ]
    },
    {
      "cell_type": "markdown",
      "id": "aba315f4-e9bf-4a66-b3d3-593037c3ca70",
      "metadata": {
        "editable": true,
        "id": "aba315f4-e9bf-4a66-b3d3-593037c3ca70",
        "tags": []
      },
      "source": [
        "---"
      ]
    },
    {
      "cell_type": "markdown",
      "id": "8ed45dcb-2cf5-4bfa-ba6e-5da25c59757c",
      "metadata": {
        "editable": true,
        "id": "8ed45dcb-2cf5-4bfa-ba6e-5da25c59757c",
        "tags": []
      },
      "source": [
        "## Object Oriented programming\n",
        "\n",
        "In Data science there are three different types of programming paradigms:\n",
        "\n",
        "1. **Object-oriented programming** organizes code using objects that represent real-world entities. It provides modularity, code reuse and abstraction, making it suitable for handling large and complex applications.\n",
        "\n",
        "2. **Functional programming** emphasizes the use of **pure functions** that can be easily composed and reused, ideal for transforming data.\n",
        "\n",
        "3. **Declarative programming** consists in specifyin what the program should accomplish, rather than how to accomplish it.\n",
        "\n"
      ]
    },
    {
      "cell_type": "markdown",
      "id": "42f9f227-0941-4967-9a4b-c282bb0e4cfc",
      "metadata": {
        "editable": true,
        "id": "42f9f227-0941-4967-9a4b-c282bb0e4cfc",
        "tags": []
      },
      "source": [
        "**Pure functions** are functions that always produce the same output for the same input and haven't got any side effects, meaning it does not modify external states or variables."
      ]
    },
    {
      "cell_type": "markdown",
      "id": "00b01ced-eda7-423f-8522-96bd3f1a4125",
      "metadata": {
        "editable": true,
        "id": "00b01ced-eda7-423f-8522-96bd3f1a4125",
        "tags": []
      },
      "source": [
        "---"
      ]
    },
    {
      "cell_type": "markdown",
      "id": "9434c993-aac1-4655-bf69-477b9dc5d2ee",
      "metadata": {
        "editable": true,
        "id": "9434c993-aac1-4655-bf69-477b9dc5d2ee",
        "tags": []
      },
      "source": [
        "## Object Oriented programming\n",
        "\n",
        "OOP main concepts are:\n",
        "\n",
        "1. **Class**: A template to create objects.\n",
        "2. **Object**: An instance of a class, representing a specific entity.\n",
        "3. **Attributes**: Properties of an object (variables within a class that define it).\n",
        "4. **Methods**: Actions that objects can perform (functions within a class)."
      ]
    },
    {
      "cell_type": "code",
      "execution_count": 33,
      "id": "1e350f15-ae19-4323-a1c6-25d80118a5f3",
      "metadata": {
        "editable": true,
        "id": "1e350f15-ae19-4323-a1c6-25d80118a5f3",
        "tags": []
      },
      "outputs": [],
      "source": [
        "class Pet:\n",
        "    pass  # Empty class as a placeholder"
      ]
    },
    {
      "cell_type": "code",
      "execution_count": 34,
      "id": "2e427c6d-a0fc-47de-a6e8-de71ae500619",
      "metadata": {
        "editable": true,
        "id": "2e427c6d-a0fc-47de-a6e8-de71ae500619",
        "tags": []
      },
      "outputs": [],
      "source": [
        "my_pet = Pet() # Instance of a class"
      ]
    },
    {
      "cell_type": "code",
      "execution_count": 35,
      "id": "1cda9d57-aedb-4e70-af5b-7193174a2430",
      "metadata": {
        "editable": true,
        "id": "1cda9d57-aedb-4e70-af5b-7193174a2430",
        "tags": []
      },
      "outputs": [],
      "source": [
        "# Note: self refers to the instance of the class and is used to access its attributes and methods\n",
        "class Pet:\n",
        "    def __init__(self, name): # constructor\n",
        "        self.name = name"
      ]
    },
    {
      "cell_type": "code",
      "execution_count": 36,
      "id": "c4f13ca9-dd0a-4b53-8f30-5a507979b1ed",
      "metadata": {
        "editable": true,
        "id": "c4f13ca9-dd0a-4b53-8f30-5a507979b1ed",
        "tags": []
      },
      "outputs": [],
      "source": [
        "class Pet:\n",
        "    def __init__(self, name): # constructor\n",
        "        self.name = name # Instance attribute\n",
        "        self.age = None # Instance attribute set to None\n",
        "\n",
        "    def set_age(self, age): # Method\n",
        "        self.age = age"
      ]
    },
    {
      "cell_type": "markdown",
      "id": "92887f1e-c2b9-4abc-9324-af4c15250c3a",
      "metadata": {
        "editable": true,
        "id": "92887f1e-c2b9-4abc-9324-af4c15250c3a",
        "tags": []
      },
      "source": [
        "---"
      ]
    },
    {
      "cell_type": "markdown",
      "id": "d6c81e01-e268-4490-b970-b9f3d7a08d30",
      "metadata": {
        "editable": true,
        "id": "d6c81e01-e268-4490-b970-b9f3d7a08d30",
        "tags": []
      },
      "source": [
        "## Object Oriented programming\n",
        "### Abstraction\n",
        "\n",
        "Abstraction consists in hiding any variables and internal parts of an object that don’t need to be shown during interaction. Making only available the essential functionalities.\n",
        "\n",
        "You may want to call a method from an object that searches for something in an internal list, and in this case, you don't need to see the algorithm behind it, you just need to call the method and get what you want."
      ]
    },
    {
      "cell_type": "markdown",
      "id": "23e1e6b4-322a-4cd5-8a82-72877cc98804",
      "metadata": {
        "editable": true,
        "id": "23e1e6b4-322a-4cd5-8a82-72877cc98804",
        "tags": []
      },
      "source": [
        "## Object Oriented programming\n",
        "### Inheritance\n",
        "\n",
        "Inheritance permits any class to inherit attributes and methods from another class. This reduces code duplication and enables the creation of specialized classes based on general ones."
      ]
    },
    {
      "cell_type": "code",
      "execution_count": 37,
      "id": "76c58110-a965-432f-8dcf-f457079fec65",
      "metadata": {
        "editable": true,
        "id": "76c58110-a965-432f-8dcf-f457079fec65",
        "tags": []
      },
      "outputs": [],
      "source": [
        "class Pet:\n",
        "    def __init__(self, age, name): # Constructor\n",
        "        self.age = age # Attribute\n",
        "        self.name = name # Attribute\n",
        "\n",
        "    def describe(self): # Method\n",
        "        print(f\"This pet's name is {self.name}.\")\n",
        "\n",
        "class Dog(Pet):\n",
        "    def __init__(self, age, name, breed): # Constructor\n",
        "        super().__init__(age, name)  # Call the parent class's __init__ method\n",
        "        self.breed = breed # New attribute for this specialized class\n",
        "\n",
        "    def describe(self):\n",
        "        super().describe()  # Call the parent class's describe method\n",
        "        print(f\"This dog is {self.age} years old and is a {self.breed}.\")"
      ]
    },
    {
      "cell_type": "code",
      "execution_count": 38,
      "id": "48301f74-ece3-49ec-9332-2c168743ebc8",
      "metadata": {
        "editable": true,
        "id": "48301f74-ece3-49ec-9332-2c168743ebc8",
        "tags": []
      },
      "outputs": [],
      "source": [
        "my_dog = Dog(3, 'Rock', 'Great Dane')"
      ]
    },
    {
      "cell_type": "code",
      "execution_count": 39,
      "id": "eae7678f-665a-4916-96d2-3926a312aea5",
      "metadata": {
        "editable": true,
        "id": "eae7678f-665a-4916-96d2-3926a312aea5",
        "outputId": "3abb92a2-d911-43f9-bf4b-bb7ecdaf371f",
        "tags": []
      },
      "outputs": [
        {
          "name": "stdout",
          "output_type": "stream",
          "text": [
            "This pet's name is Rock.\n",
            "This dog is 3 years old and is a Great Dane.\n"
          ]
        }
      ],
      "source": [
        "my_dog.describe()"
      ]
    },
    {
      "cell_type": "markdown",
      "id": "220f9368-0c1a-4ac8-9785-a33b11e5df77",
      "metadata": {
        "editable": true,
        "id": "220f9368-0c1a-4ac8-9785-a33b11e5df77",
        "tags": []
      },
      "source": [
        "---"
      ]
    },
    {
      "cell_type": "markdown",
      "id": "88ff8053-d1d0-4c08-b8e5-6c84e94c4f24",
      "metadata": {
        "editable": true,
        "id": "88ff8053-d1d0-4c08-b8e5-6c84e94c4f24",
        "tags": []
      },
      "source": [
        "## Object Oriented programming\n",
        "### Polymorphism\n",
        "\n",
        "It allows the same method name to behave differently based on the object calling it, which can be achieved through method overriding."
      ]
    },
    {
      "cell_type": "code",
      "execution_count": 40,
      "id": "db4cd9e2-0188-4511-a81b-070221d74af5",
      "metadata": {
        "editable": true,
        "id": "db4cd9e2-0188-4511-a81b-070221d74af5",
        "tags": []
      },
      "outputs": [],
      "source": [
        "class Cat(Pet):\n",
        "    def __init__(self, age, name, breed): # Constructor\n",
        "        super().__init__(age, name)  # Call the parent class's __init__ method\n",
        "        self.breed = breed # New attribute for this specialized class\n",
        "\n",
        "    def describe(self): # Method\n",
        "        print(f\"This super cat is {self.age} years old and is a {self.breed}.\")"
      ]
    },
    {
      "cell_type": "code",
      "execution_count": 41,
      "id": "ced1143b-98db-46db-8e90-fed185aad835",
      "metadata": {
        "editable": true,
        "id": "ced1143b-98db-46db-8e90-fed185aad835",
        "outputId": "3c3d99c3-5191-40d9-a25c-9d4516c6ca93",
        "tags": []
      },
      "outputs": [
        {
          "name": "stdout",
          "output_type": "stream",
          "text": [
            "This super cat is 7 years old and is a Siamese.\n"
          ]
        }
      ],
      "source": [
        "my_cat = Cat(7, 'Bella', 'Siamese')\n",
        "my_cat.describe()"
      ]
    },
    {
      "cell_type": "markdown",
      "id": "cd327548-f048-4d39-9b72-6dff6cd6963d",
      "metadata": {
        "editable": true,
        "id": "cd327548-f048-4d39-9b72-6dff6cd6963d",
        "tags": []
      },
      "source": [
        "---"
      ]
    },
    {
      "cell_type": "markdown",
      "id": "854b31bb-2b21-42fd-939a-f82f71a549f0",
      "metadata": {
        "editable": true,
        "id": "854b31bb-2b21-42fd-939a-f82f71a549f0",
        "tags": []
      },
      "source": [
        "## Object Oriented programming\n",
        "### Encapsulation\n",
        "\n",
        "It consists in restricting access to variables and methods outside the object. This way we ensure the integrity of the data within the object.\n",
        "\n",
        "In python, prefixing a variable or method name with an underscore **_** indicates that it is intended for internal use only, while a double underscore **__** modifies the variable name for better encapsulation.\n",
        "\n",
        "It is worth mentioning that this is a convention, and variables and methods are still accessible."
      ]
    },
    {
      "cell_type": "code",
      "execution_count": 42,
      "id": "33e1bdf2-8798-41f1-9ed3-957c730dc9ad",
      "metadata": {
        "editable": true,
        "id": "33e1bdf2-8798-41f1-9ed3-957c730dc9ad",
        "tags": []
      },
      "outputs": [],
      "source": [
        "class Student:\n",
        "    def __init__(self, name, age, address=None):\n",
        "        self.name = name # Public attribute\n",
        "        self._age = age # Private attribute\n",
        "        self._address = address  # Private attribute\n",
        "\n",
        "    def get_address(self): # Method\n",
        "        return self._address\n",
        "\n",
        "    def set_address(self, address): # Method\n",
        "        address = ''.join(filter(self._remove_special_characters, address))\n",
        "        self._address = address\n",
        "\n",
        "    def _remove_special_characters(self, character): # Private method\n",
        "        if character.isalnum() or character == ' ' or character == '-':\n",
        "            return True\n",
        "        else:\n",
        "            return False\n"
      ]
    },
    {
      "cell_type": "code",
      "execution_count": 43,
      "id": "a4e46c71-63e9-474e-91a6-9d9a323636dc",
      "metadata": {
        "editable": true,
        "id": "a4e46c71-63e9-474e-91a6-9d9a323636dc",
        "outputId": "f3fdcc29-3661-46e6-e645-397a94c9874c",
        "tags": []
      },
      "outputs": [
        {
          "name": "stdout",
          "output_type": "stream",
          "text": [
            "The student named Joan has the following address: Avinguda Buenos Aires nº 31 7e-1a\n"
          ]
        }
      ],
      "source": [
        "student = Student(\"Joan\", 24)\n",
        "student.set_address(\"Avinguda Buenos Aires nº 31! 7e-1a\")\n",
        "print(f\"The student named {student.name} has the following address: {student.get_address()}\")"
      ]
    },
    {
      "cell_type": "markdown",
      "id": "f4552012-e0e9-40af-8801-69d83733d433",
      "metadata": {
        "editable": true,
        "id": "f4552012-e0e9-40af-8801-69d83733d433",
        "tags": []
      },
      "source": [
        "---"
      ]
    },
    {
      "cell_type": "markdown",
      "id": "42f8be9a-cc71-4a58-97ac-1a54219a2d72",
      "metadata": {
        "editable": true,
        "id": "42f8be9a-cc71-4a58-97ac-1a54219a2d72",
        "tags": []
      },
      "source": [
        "## Object Oriented programming\n",
        "### Hands on\n",
        "\n",
        "Let's design a course registration system, where the requirements will be:\n",
        "\n",
        "1. Create a **Course** class, where each course has a name, a description and a list of enrolled students. You'll need to implement the next methods:\n",
        "    - Add a student to the course.\n",
        "    - Remove a student from the course.\n",
        "    - Show all students in the course."
      ]
    },
    {
      "cell_type": "code",
      "execution_count": 44,
      "id": "e5430dcf-a01a-4ea1-aff8-5bad4531ab1e",
      "metadata": {
        "editable": true,
        "id": "e5430dcf-a01a-4ea1-aff8-5bad4531ab1e",
        "tags": []
      },
      "outputs": [],
      "source": [
        "class Course:\n",
        "    def __init__(self, name, course_type, students=None):\n",
        "        # Initializes a Course instance with the provided name, type, \n",
        "        # and optional list of students. Each student starts with a grade of None.\n",
        "        self.name = name\n",
        "        self.course_type = course_type\n",
        "        if students == None:\n",
        "            students = []\n",
        "        self.students = students\n",
        "        self.grades = {student: None for student in self.students}  # Initialize grades to None for each student\n",
        "        print(f\"Course {self.name} created with type {self.course_type} and students: {[student.name for student in self.students]}\")\n",
        "\n",
        "\n",
        "    def add_student(self, student):\n",
        "        # Adds a student to the course and initializes their grade to None.\n",
        "        self.students.append(student)  # Add the student to the students list\n",
        "        self.grades[student] = None  # Initialize the student's grade to None\n",
        "        print(f\"{student.name} has been added to {self.name}.\")\n",
        "\n",
        "\n",
        "    def remove_student(self, student):\n",
        "        # Removes a student from the course and deletes their grade.\n",
        "        if student in self.students:\n",
        "            self.students.remove(student)  # Remove the student from the list\n",
        "            self.grades.pop(student, None)  # Remove the student's grade as well\n",
        "            print(f\"{student.name} has been removed from {self.name}.\")\n",
        "        else:\n",
        "            print(f\"{student.name} is not in the course {self.name}.\")\n",
        "\n",
        "\n",
        "    def show_all_students(self):\n",
        "        #Displays all students enrolled in the course along with their grades.\n",
        "        i = 0\n",
        "        print(f\"Students in {self.name} course:\")\n",
        "        for student in self.students:\n",
        "            i += 1  # Increment the counter manually\n",
        "            grade = self.grades.get(student, 'N/A')  # Get grade or default to 'N/A'\n",
        "            print(f\"{i}. {student.name}, ID: {student.student_id}, Grade: {grade}\\n\")  # Print student number, name, and grade\n",
        "\n",
        "\n",
        "    def set_grade(self, student, grade):\n",
        "        #Sets the grade for a student if they are enrolled in the course.\n",
        "        if student in self.grades.keys():  # Check if the student is in the grades dictionary\n",
        "            self.grades[student] = grade  # Update the student's grade\n",
        "            student.set_grade(self, grade)\n",
        "            print(f\"Grade {grade} has been set for {student.name} in {self.name}.\")\n",
        "        else:\n",
        "            print(f\"{student.name} is not enrolled in {self.name}, so grade cannot be set.\")\n",
        "\n",
        "\n",
        "    def __repr__(self):\n",
        "        #Returns a string representation of the Course instance.\n",
        "        return f\"Course {self.name} of type {self.course_type}\""
      ]
    },
    {
      "cell_type": "markdown",
      "id": "16cc578c-9fe3-4478-81da-3071e3adb318",
      "metadata": {
        "editable": true,
        "id": "16cc578c-9fe3-4478-81da-3071e3adb318",
        "tags": []
      },
      "source": [
        "## Object Oriented programming\n",
        "### Hands on\n",
        "\n",
        "2. Create a **Student** class, where each student has a name, ID number, address and a list of enrolled courses with the following methods:\n",
        "    - Enroll in a course.\n",
        "    - Drop a course.\n",
        "    - Show all registered student courses."
      ]
    },
    {
      "cell_type": "code",
      "execution_count": 45,
      "id": "fe4cce31-1ddf-4847-bc8d-924dc3e0dfe1",
      "metadata": {
        "editable": true,
        "id": "fe4cce31-1ddf-4847-bc8d-924dc3e0dfe1",
        "tags": []
      },
      "outputs": [],
      "source": [
        "from statistics import mean\n",
        "\n",
        "class Student:\n",
        "\n",
        "    def __init__(self, name, student_id, address=None, course_list=None):\n",
        "        # Initializes a Student instance with a name, student ID, optional address, and a list of courses.\n",
        "        self.name = name\n",
        "        self.student_id = student_id\n",
        "        self.address = address\n",
        "        self.course_list = course_list if course_list is not None else []  # Avoid mutable default argument\n",
        "        self.grades = {}  # Initialize an empty dictionary for grades\n",
        "\n",
        "\n",
        "    def enroll(self, course):\n",
        "        # Enrolls the student in a course if not already enrolled.\n",
        "        if course not in self.course_list:\n",
        "            self.course_list.append(course)\n",
        "            print(f\"{self.name} has enrolled in {course.name}.\") \n",
        "        else:\n",
        "            print(f\"{self.name} is already enrolled in {course.name}.\")\n",
        "\n",
        "\n",
        "    def drop(self, course):\n",
        "        # Drops a course if the student is currently enrolled.\n",
        "        if course in self.course_list:\n",
        "            self.course_list.remove(course)\n",
        "            print(f\"{self.name} has dropped {course.name}.\")\n",
        "        else:\n",
        "            print(f\"{self.name} is not taking {course.name}, so cannot drop it.\")\n",
        "\n",
        "\n",
        "    def show_all_courses(self):\n",
        "        # Displays all courses the student is enrolled in.\n",
        "        if self.course_list:\n",
        "            print(f\"{self.name} is taking the following courses:\")\n",
        "            for course in self.course_list:\n",
        "                print(course)\n",
        "        else:\n",
        "            print(f\"{self.name} is not taking any courses.\")\n",
        "\n",
        "\n",
        "    def set_grade(self, course, grade):\n",
        "        # Sets the grade for a course if the student is enrolled in it.\n",
        "        if course in self.course_list:\n",
        "            self.grades[course] = grade\n",
        "            print(f\"{self.name}'s grade for {course.name} has been set to {grade}.\")\n",
        "        else:\n",
        "            print(f\"Cannot set grade because {self.name} is not enrolled in {course.name} class.\")\n",
        "\n",
        "\n",
        "    def get_address(self):  # Gets the student's address.\n",
        "        return self._address\n",
        "\n",
        "\n",
        "    def set_address(self, address):  # Sets the student's address.\n",
        "        address = ''.join(filter(self._remove_special_characters, address))\n",
        "        self._address = address\n",
        "\n",
        "\n",
        "    def calculate_GPA(self):\n",
        "        # Calculates and prints the student's GPA based on their grades.\n",
        "        grades = [grade for grade in self.grades.values() if grade is not None]  # Filter out None grades\n",
        "        if grades:\n",
        "            gpa = mean(grades)  # Calculate GPA\n",
        "            print(f\"{self.name}'s GPA is {gpa:.2f}\")  # Print GPA formatted to two decimal places\n",
        "            return gpa\n",
        "        else:\n",
        "            print(f\"{self.name} has no grades, so GPA cannot be calculated.\")\n",
        "            return 0\n",
        "\n",
        "\n",
        "    def __repr__(self):\n",
        "        # Returns a string representation of the Student instance.\n",
        "        return f\"Name: {self.name:<8} ID: {self.student_id}\""
      ]
    },
    {
      "cell_type": "markdown",
      "id": "5c54b2fe-691f-4520-b8d6-2515ba92b808",
      "metadata": {
        "editable": true,
        "id": "5c54b2fe-691f-4520-b8d6-2515ba92b808",
        "tags": []
      },
      "source": [
        "## Object Oriented programming\n",
        "### Hands on\n",
        "\n",
        "3. Create a central class that manages courses and students, **Registration** class, where you have a list of students and a list of courses, and methods:\n",
        "    - Enroll in a course.\n",
        "    - Drop a course.\n",
        "    - Show all the enrolled courses.\n",
        "    - Show all the students."
      ]
    },
    {
      "cell_type": "code",
      "execution_count": 46,
      "id": "863f30c7-3cf8-4ac9-8599-e7df8e0d483c",
      "metadata": {
        "editable": true,
        "id": "863f30c7-3cf8-4ac9-8599-e7df8e0d483c",
        "tags": []
      },
      "outputs": [],
      "source": [
        "class Registration:\n",
        "    def __init__(self, students=None, courses=None):\n",
        "        # Initializes a Registrar instance with optional lists of students and courses.\n",
        "        self.students = students if students is not None else []  # Avoid mutable default argument\n",
        "        self.courses = courses if courses is not None else []  # Avoid mutable default argument\n",
        "\n",
        "\n",
        "    def enroll_student(self, student, course):\n",
        "        # Enrolls a student in a course and adds the student to the course's student list.\n",
        "        student.enroll(course)  # Enroll the student in the course\n",
        "        course.add_student(student)  # Add the student to the course's student list\n",
        "        print(f\"{student.name} has been enrolled in {course.name}.\")\n",
        "\n",
        "\n",
        "    def drop_course(self, student, course):\n",
        "        # Drops a course for the student and removes the student from the course's student list.\n",
        "        student.drop(course)  # Drop the course for the student\n",
        "        course.remove_student(student)  # Remove the student from the course\n",
        "        print(f\"{student.name} has dropped {course.name}.\")\n",
        "\n",
        "\n",
        "    def show_all(self):\n",
        "        # Displays a list of all students currently registered.\n",
        "        print(\"List of all students:\")\n",
        "        if not self.students:\n",
        "            print(\"No students are registered.\")  # Notify if no students are present\n",
        "            return\n",
        "        for student in self.students:\n",
        "            print(student)  # Print each student's information\n",
        "        print(f\"\\nList of all courses:\")\n",
        "        if not self.courses:\n",
        "            print(\"No enrolled courses\")\n",
        "            return\n",
        "        for course in self.courses:\n",
        "            print(course)\n",
        "\n",
        "    def get_student_gpa_by_id(self, student_id):\n",
        "        \"\"\"Retrieve the GPA for a student by their ID.\"\"\"\n",
        "        for student in self.students:\n",
        "            if student.student_id == student_id:\n",
        "                gpa = student.calculate_GPA()  # Calculate GPA\n",
        "                return gpa\n",
        "        return None  # Return None if student not found\n"
      ]
    },
    {
      "cell_type": "code",
      "execution_count": 47,
      "id": "5d6a3498",
      "metadata": {},
      "outputs": [
        {
          "name": "stdout",
          "output_type": "stream",
          "text": [
            "Course Math created with type Science and students: ['Joan', 'John']\n",
            "Course English created with type Language and students: ['John', 'Mike']\n",
            "Enrolling students:\n",
            "Mike has been added to Math.\n",
            "Joan has been added to English.\n",
            "\n",
            "Setting grades:\n",
            "Cannot set grade because Mike is not enrolled in Math class.\n",
            "Grade 95 has been set for Mike in Math.\n",
            "Cannot set grade because John is not enrolled in Math class.\n",
            "Grade 88 has been set for John in Math.\n",
            "Cannot set grade because Mike is not enrolled in English class.\n",
            "Grade 92 has been set for Mike in English.\n",
            "\n",
            "Removing students:\n",
            "Joan has been removed from Math.\n",
            "Joan has been removed from English.\n",
            "\n",
            "Students in Math course:\n",
            "1. John, ID: 512234, Grade: 88\n",
            "\n",
            "2. Mike, ID: 2521352, Grade: 95\n",
            "\n",
            "\n",
            "Students in English course:\n",
            "1. John, ID: 512234, Grade: None\n",
            "\n",
            "2. Mike, ID: 2521352, Grade: 92\n",
            "\n",
            "\n",
            "Course details:\n",
            "Course Math of type Science\n",
            "Course English of type Language\n"
          ]
        }
      ],
      "source": [
        "# Testing functions from Course and Student classes\n",
        "\n",
        "# Creating student instances\n",
        "joan = Student(\"Joan\", 143215, 22)\n",
        "john = Student(\"John\", 512234, 30)\n",
        "mike = Student(\"Mike\", 2521352, 21)\n",
        "\n",
        "# Creating course instances with initial students\n",
        "math = Course(\"Math\", \"Science\", [joan, john])\n",
        "english = Course(\"English\", \"Language\", [john, mike])\n",
        "\n",
        "# Demonstrating enrollment of students into courses\n",
        "print(\"Enrolling students:\")\n",
        "math.add_student(mike)  \n",
        "english.add_student(joan)  \n",
        "print()  # Just to add a line break\n",
        "\n",
        "# Setting grades for students in their respective courses\n",
        "print(\"Setting grades:\")\n",
        "math.set_grade(mike, 95)  \n",
        "math.set_grade(john, 88)   \n",
        "english.set_grade(mike, 92)  \n",
        "print()  \n",
        "\n",
        "# Demonstrating the removal of students from courses\n",
        "print(\"Removing students:\")\n",
        "math.remove_student(joan) \n",
        "english.remove_student(joan) \n",
        "print()  \n",
        "\n",
        "# Showing all students in Math and their grades\n",
        "math.show_all_students()\n",
        "print()  \n",
        "\n",
        "# Showing all students in English and their grades\n",
        "english.show_all_students()\n",
        "print() \n",
        "\n",
        "# Printing course details\n",
        "print(\"Course details:\")\n",
        "print(math)  # Displaying Math course information\n",
        "print(english)  # Displaying English course information\n"
      ]
    },
    {
      "cell_type": "code",
      "execution_count": 48,
      "id": "e170325a",
      "metadata": {},
      "outputs": [
        {
          "name": "stdout",
          "output_type": "stream",
          "text": [
            "Course Math created with type Science and students: []\n",
            "Course English created with type Language and students: []\n",
            "Enrolling students in courses:\n",
            "Joan has enrolled in Math.\n",
            "John has enrolled in Math.\n",
            "Mike has enrolled in English.\n",
            "\n",
            "Setting grades for students:\n",
            "Joan's grade for Math has been set to 85.\n",
            "John's grade for Math has been set to 90.\n",
            "Mike's grade for English has been set to 95.\n",
            "\n",
            "Showing all courses and GPA for each student:\n",
            "Joan is taking the following courses:\n",
            "Course Math of type Science\n",
            "Joan's GPA is 85.00\n",
            "John is taking the following courses:\n",
            "Course Math of type Science\n",
            "John's GPA is 90.00\n",
            "Mike is taking the following courses:\n",
            "Course English of type Language\n",
            "Mike's GPA is 95.00\n",
            "\n",
            "Dropping courses:\n",
            "Joan has dropped Math.\n",
            "Joan has dropped the course Math.\n",
            "\n",
            "Courses for Joan after dropping a course:\n",
            "Joan is not taking any courses.\n"
          ]
        }
      ],
      "source": [
        "#More testing functions from Students Class\n",
        "\n",
        "# Creating student instances\n",
        "joan = Student(\"Joan\", 143215, 22)\n",
        "john = Student(\"John\", 512234, 30)\n",
        "mike = Student(\"Mike\", 2521352, 21)\n",
        "\n",
        "# Creating course instances\n",
        "math = Course(\"Math\", \"Science\")\n",
        "english = Course(\"English\", \"Language\")\n",
        "\n",
        "# Enrolling students in courses\n",
        "print(\"Enrolling students in courses:\")\n",
        "joan.enroll(math)  \n",
        "john.enroll(math)  \n",
        "mike.enroll(english)  \n",
        "\n",
        "# Setting grades for students\n",
        "print(\"\\nSetting grades for students:\")\n",
        "joan.set_grade(math, 85)  \n",
        "john.set_grade(math, 90)   \n",
        "mike.set_grade(english, 95)  \n",
        "\n",
        "# Displaying all courses and grades for each student\n",
        "print(\"\\nShowing all courses and GPA for each student:\")\n",
        "for student in [joan, john, mike]:\n",
        "    student.show_all_courses()  # Display each student's enrolled courses and grades\n",
        "    gpa = student.calculate_GPA()  # Calculate GPA\n",
        "    \n",
        "\n",
        "# Dropping a course for a student\n",
        "print(\"\\nDropping courses:\")\n",
        "joan.drop(math)  \n",
        "print(f\"{joan.name} has dropped the course {math.name}.\\n\")\n",
        "\n",
        "# Displaying all courses for Joan after dropping Math\n",
        "print(f\"Courses for {joan.name} after dropping a course:\")\n",
        "joan.show_all_courses()  # Show updated courses for Joan\n"
      ]
    },
    {
      "cell_type": "code",
      "execution_count": 49,
      "id": "523f61e1",
      "metadata": {},
      "outputs": [
        {
          "name": "stdout",
          "output_type": "stream",
          "text": [
            "Course Math created with type Science and students: []\n",
            "Course English created with type Language and students: []\n",
            "Enrolling students in courses:\n",
            "Joan has enrolled in Math.\n",
            "Joan has been added to Math.\n",
            "Joan has been enrolled in Math.\n",
            "John has enrolled in Math.\n",
            "John has been added to Math.\n",
            "John has been enrolled in Math.\n",
            "Mike has enrolled in English.\n",
            "Mike has been added to English.\n",
            "Mike has been enrolled in English.\n",
            "\n",
            "List of all students:\n",
            "Name: Joan     ID: 143215\n",
            "Name: John     ID: 512234\n",
            "Name: Mike     ID: 2521352\n",
            "\n",
            "List of all courses:\n",
            "Course Math of type Science\n",
            "Course English of type Language\n",
            "\n",
            "Setting grades for students:\n",
            "Joan's grade for Math has been set to 85.\n",
            "Grade 85 has been set for Joan in Math.\n",
            "John's grade for Math has been set to 90.\n",
            "Grade 90 has been set for John in Math.\n",
            "Mike's grade for English has been set to 95.\n",
            "Grade 95 has been set for Mike in English.\n",
            "\n"
          ]
        }
      ],
      "source": [
        "# Testing functions from Registrar class\n",
        "\n",
        "# Creating student instances\n",
        "joan = Student(\"Joan\", 143215, 22)\n",
        "john = Student(\"John\", 512234, 30)\n",
        "mike = Student(\"Mike\", 2521352, 21)\n",
        "\n",
        "# Creating course instances\n",
        "math = Course(\"Math\", \"Science\")\n",
        "english = Course(\"English\", \"Language\")\n",
        "\n",
        "# Creating a registration instance with the created students and courses\n",
        "registrar = Registration([joan, john, mike], [math, english])\n",
        "\n",
        "# Enrolling students in courses using the registration\n",
        "print(\"Enrolling students in courses:\")\n",
        "registrar.enroll_student(joan, math)  \n",
        "registrar.enroll_student(john, math)   \n",
        "registrar.enroll_student(mike, english)\n",
        "print() \n",
        "\n",
        "# Displaying all students after enrollment\n",
        "registrar.show_all()  # Show all students registered with the registration\n",
        "print()  \n",
        "\n",
        "# Setting grades for students\n",
        "print(\"Setting grades for students:\")\n",
        "math.set_grade(joan, 85)  \n",
        "math.set_grade(john, 90)   \n",
        "english.set_grade(mike, 95)  \n",
        "print() "
      ]
    },
    {
      "cell_type": "code",
      "execution_count": 50,
      "id": "952fb6ca",
      "metadata": {},
      "outputs": [
        {
          "name": "stdout",
          "output_type": "stream",
          "text": [
            "Retrieving GPAs by student ID:\n",
            "Searching 143215:\n",
            "Joan's GPA is 85.00\n",
            "Searching 512234:\n",
            "John's GPA is 90.00\n",
            "Searching 2521352:\n",
            "Mike's GPA is 95.00\n",
            "\n",
            "Showing all courses for each student:\n",
            "Joan is taking the following courses:\n",
            "Course Math of type Science\n",
            "\n",
            "John is taking the following courses:\n",
            "Course Math of type Science\n",
            "\n",
            "Mike is taking the following courses:\n",
            "Course English of type Language\n",
            "\n",
            "Dropping courses:\n",
            "Joan has dropped Math.\n",
            "Joan has been removed from Math.\n",
            "Joan has dropped Math.\n",
            "Joan has dropped the course Math.\n",
            "\n",
            "List of all students after dropping a course:\n",
            "List of all students:\n",
            "Name: Joan     ID: 143215\n",
            "Name: John     ID: 512234\n",
            "Name: Mike     ID: 2521352\n",
            "\n",
            "List of all courses:\n",
            "Course Math of type Science\n",
            "Course English of type Language\n",
            "\n",
            "Courses for Joan after dropping a course:\n",
            "Joan is not taking any courses.\n"
          ]
        }
      ],
      "source": [
        "#Retrieving and displaying GPAs for students by ID\n",
        "print(\"Retrieving GPAs by student ID:\")\n",
        "for student_id in [143215, 512234, 2521352]:\n",
        "    print(f\"Searching {student_id}:\")\n",
        "    gpa = registrar.get_student_gpa_by_id(student_id)  # Get GPA by student ID\n",
        "    if gpa is None:\n",
        "        print(f\"Student with ID {student_id} not found.\")\n",
        "print() \n",
        "\n",
        "# Displaying all courses and grades for each student\n",
        "print(\"Showing all courses for each student:\")\n",
        "for student in [joan, john, mike]:\n",
        "    student.show_all_courses()  # Display each student's enrolled courses and grades\n",
        "    print()  \n",
        "\n",
        "# Dropping a course for a student using the registration\n",
        "print(\"Dropping courses:\")\n",
        "registrar.drop_course(joan, math)  \n",
        "print(f\"{joan.name} has dropped the course {math.name}.\\n\")\n",
        "\n",
        "# Displaying all students after dropping a course\n",
        "print(\"List of all students after dropping a course:\")\n",
        "registrar.show_all()  # Show all students registered with the registrar\n",
        "print()  # Adding a line break for better readability\n",
        "\n",
        "# Displaying all courses for Joan after dropping Math\n",
        "print(f\"Courses for {joan.name} after dropping a course:\")\n",
        "joan.show_all_courses()  # Show updated courses for Joan"
      ]
    },
    {
      "cell_type": "markdown",
      "id": "2958b01b-3472-4c95-ae1f-771edc638749",
      "metadata": {
        "editable": true,
        "id": "2958b01b-3472-4c95-ae1f-771edc638749",
        "tags": []
      },
      "source": [
        "## Object Oriented programming\n",
        "### Howework\n",
        "\n",
        "4. Let's add grades to each student's course and create method that yields the GPA given a student name or ID."
      ]
    },
    {
      "cell_type": "code",
      "execution_count": null,
      "id": "da2fc719",
      "metadata": {},
      "outputs": [],
      "source": [
        "#added to existing classes"
      ]
    },
    {
      "cell_type": "markdown",
      "id": "76c565a9-dc30-464c-980d-d522cd5246f4",
      "metadata": {
        "editable": true,
        "id": "76c565a9-dc30-464c-980d-d522cd5246f4",
        "tags": []
      },
      "source": [
        "## That's all!"
      ]
    }
  ],
  "metadata": {
    "colab": {
      "provenance": []
    },
    "kernelspec": {
      "display_name": "Python 3",
      "language": "python",
      "name": "python3"
    },
    "language_info": {
      "codemirror_mode": {
        "name": "ipython",
        "version": 3
      },
      "file_extension": ".py",
      "mimetype": "text/x-python",
      "name": "python",
      "nbconvert_exporter": "python",
      "pygments_lexer": "ipython3",
      "version": "3.12.0"
    }
  },
  "nbformat": 4,
  "nbformat_minor": 5
}
